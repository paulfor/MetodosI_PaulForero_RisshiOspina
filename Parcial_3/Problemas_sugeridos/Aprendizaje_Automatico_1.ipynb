{
  "nbformat": 4,
  "nbformat_minor": 0,
  "metadata": {
    "colab": {
      "provenance": []
    },
    "kernelspec": {
      "name": "python3",
      "display_name": "Python 3"
    },
    "language_info": {
      "name": "python"
    }
  },
  "cells": [
    {
      "cell_type": "code",
      "execution_count": null,
      "metadata": {
        "colab": {
          "base_uri": "https://localhost:8080/",
          "height": 39
        },
        "id": "HOrhWtJkaRP2",
        "outputId": "a913d4aa-8f2a-47e3-ae37-5637121682e0"
      },
      "outputs": [
        {
          "output_type": "execute_result",
          "data": {
            "text/plain": [
              "Eq(z, 4*x - 2*y)"
            ],
            "text/latex": "$\\displaystyle z = 4 x - 2 y$"
          },
          "metadata": {},
          "execution_count": 1
        }
      ],
      "source": [
        "import sympy as sp\n",
        "import numpy as np\n",
        "import matplotlib as plt\n",
        "\n",
        "# Definimos los símbolos para el punto\n",
        "x, y, z = sp.symbols('x y z')\n",
        "point = (1, 1)\n",
        "\n",
        "# Definimos la función y evaluamos en el punto\n",
        "f = x**2 - y**2 + 2*x\n",
        "f_at_point = f.subs({x: point[0], y: point[1]})\n",
        "\n",
        "# Calculamos el gradiente y lo evaluamos en el punto\n",
        "gradient = [sp.diff(f, var) for var in (x, y)]\n",
        "gradient_at_point = np.array([derivative.subs({x: point[0], y: point[1]}) for derivative in gradient])\n",
        "\n",
        "# Aplicamos el término lineal del desarrollo de Taylor\n",
        "variables = np.array([x, y])\n",
        "delta_variables = variables - point\n",
        "x1 = np.dot(gradient_at_point,delta_variables)\n",
        "\n",
        "# Crear la ecuación z = f_at_point + x1\n",
        "equation = sp.Eq(z, f_at_point + x1)\n",
        "\n",
        "equation\n"
      ]
    },
    {
      "cell_type": "code",
      "source": [
        "# Create a meshgrid of x and y values\n",
        "x_values = np.linspace(-2, 4, 40)  # Adjust the range and number of points as needed\n",
        "y_values = np.linspace(-2, 4, 40)  # Adjust the range and number of points as needed\n",
        "X, Y = np.meshgrid(x_values, y_values)\n",
        "\n",
        "# Evaluate f and z on the meshgrid\n",
        "F = np.array([[f.subs({x: x_val, y: y_val}) for x_val in x_values] for y_val in y_values])\n",
        "Z = np.array([[z.subs({x: x_val, y: y_val}) for x_val in x_values] for y_val in y_values])\n",
        "\n",
        "# Plot f and z as 2D contour plots\n",
        "# plt.figure(figsize=(12, 5))\n",
        "\n",
        "plt.subplot(1, 2, 1)\n",
        "plt.contourf(X, Y, F, cmap='viridis')\n",
        "plt.colorbar()\n",
        "plt.title('Contour Plot of f(x, y)')\n",
        "plt.xlabel('x')\n",
        "plt.ylabel('y')\n",
        "\n",
        "plt.subplot(1, 2, 2)\n",
        "plt.contourf(X, Y, Z, cmap='viridis')\n",
        "plt.colorbar()\n",
        "plt.title('Contour Plot of z = f_at_point + x1')\n",
        "plt.xlabel('x')\n",
        "plt.ylabel('y')\n",
        "\n",
        "plt.tight_layout()\n",
        "plt.show()"
      ],
      "metadata": {
        "colab": {
          "base_uri": "https://localhost:8080/",
          "height": 367
        },
        "id": "0gn09ELCcSjn",
        "outputId": "c4b745b6-d1ab-4dc2-874b-bcd0de52b11b"
      },
      "execution_count": null,
      "outputs": [
        {
          "output_type": "error",
          "ename": "AttributeError",
          "evalue": "ignored",
          "traceback": [
            "\u001b[0;31m---------------------------------------------------------------------------\u001b[0m",
            "\u001b[0;31mAttributeError\u001b[0m                            Traceback (most recent call last)",
            "\u001b[0;32m<ipython-input-2-b4cd0da47310>\u001b[0m in \u001b[0;36m<cell line: 13>\u001b[0;34m()\u001b[0m\n\u001b[1;32m     11\u001b[0m \u001b[0;31m# plt.figure(figsize=(12, 5))\u001b[0m\u001b[0;34m\u001b[0m\u001b[0;34m\u001b[0m\u001b[0m\n\u001b[1;32m     12\u001b[0m \u001b[0;34m\u001b[0m\u001b[0m\n\u001b[0;32m---> 13\u001b[0;31m \u001b[0mplt\u001b[0m\u001b[0;34m.\u001b[0m\u001b[0msubplot\u001b[0m\u001b[0;34m(\u001b[0m\u001b[0;36m1\u001b[0m\u001b[0;34m,\u001b[0m \u001b[0;36m2\u001b[0m\u001b[0;34m,\u001b[0m \u001b[0;36m1\u001b[0m\u001b[0;34m)\u001b[0m\u001b[0;34m\u001b[0m\u001b[0;34m\u001b[0m\u001b[0m\n\u001b[0m\u001b[1;32m     14\u001b[0m \u001b[0mplt\u001b[0m\u001b[0;34m.\u001b[0m\u001b[0mcontourf\u001b[0m\u001b[0;34m(\u001b[0m\u001b[0mX\u001b[0m\u001b[0;34m,\u001b[0m \u001b[0mY\u001b[0m\u001b[0;34m,\u001b[0m \u001b[0mF\u001b[0m\u001b[0;34m,\u001b[0m \u001b[0mcmap\u001b[0m\u001b[0;34m=\u001b[0m\u001b[0;34m'viridis'\u001b[0m\u001b[0;34m)\u001b[0m\u001b[0;34m\u001b[0m\u001b[0;34m\u001b[0m\u001b[0m\n\u001b[1;32m     15\u001b[0m \u001b[0mplt\u001b[0m\u001b[0;34m.\u001b[0m\u001b[0mcolorbar\u001b[0m\u001b[0;34m(\u001b[0m\u001b[0;34m)\u001b[0m\u001b[0;34m\u001b[0m\u001b[0;34m\u001b[0m\u001b[0m\n",
            "\u001b[0;32m/usr/local/lib/python3.10/dist-packages/matplotlib/_api/__init__.py\u001b[0m in \u001b[0;36m__getattr__\u001b[0;34m(name)\u001b[0m\n\u001b[1;32m    224\u001b[0m         \u001b[0;32mif\u001b[0m \u001b[0mname\u001b[0m \u001b[0;32min\u001b[0m \u001b[0mprops\u001b[0m\u001b[0;34m:\u001b[0m\u001b[0;34m\u001b[0m\u001b[0;34m\u001b[0m\u001b[0m\n\u001b[1;32m    225\u001b[0m             \u001b[0;32mreturn\u001b[0m \u001b[0mprops\u001b[0m\u001b[0;34m[\u001b[0m\u001b[0mname\u001b[0m\u001b[0;34m]\u001b[0m\u001b[0;34m.\u001b[0m\u001b[0m__get__\u001b[0m\u001b[0;34m(\u001b[0m\u001b[0minstance\u001b[0m\u001b[0;34m)\u001b[0m\u001b[0;34m\u001b[0m\u001b[0;34m\u001b[0m\u001b[0m\n\u001b[0;32m--> 226\u001b[0;31m         raise AttributeError(\n\u001b[0m\u001b[1;32m    227\u001b[0m             f\"module {cls.__module__!r} has no attribute {name!r}\")\n\u001b[1;32m    228\u001b[0m \u001b[0;34m\u001b[0m\u001b[0m\n",
            "\u001b[0;31mAttributeError\u001b[0m: module 'matplotlib' has no attribute 'subplot'"
          ]
        }
      ]
    },
    {
      "cell_type": "code",
      "source": [],
      "metadata": {
        "id": "0aGMbtkWeMDB"
      },
      "execution_count": null,
      "outputs": []
    }
  ]
}