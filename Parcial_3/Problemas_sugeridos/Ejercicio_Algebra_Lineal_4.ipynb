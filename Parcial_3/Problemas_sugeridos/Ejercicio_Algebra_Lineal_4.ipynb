{
  "nbformat": 4,
  "nbformat_minor": 0,
  "metadata": {
    "colab": {
      "provenance": []
    },
    "kernelspec": {
      "name": "python3",
      "display_name": "Python 3"
    },
    "language_info": {
      "name": "python"
    }
  },
  "cells": [
    {
      "cell_type": "code",
      "source": [
        "import numpy as np\n",
        "\n",
        "A = np.array([[1,0,0],\\\n",
        "              [5,1,0],\\\n",
        "              [-2,3,1],\\\n",
        "            ])\n",
        "\n",
        "B = np.array([[4,-2,1],\\\n",
        "              [0,3,7],\\\n",
        "              [0,0,2],\\\n",
        "            ])\n",
        "\n",
        "\n",
        "def Multiplicar_Matrices(M1,M2):\n",
        "\n",
        "  if len(M1[0]) == len(M2):\n",
        "\n",
        "    M3 = []\n",
        "    for i in range(len(M1)):\n",
        "      M3.append([])\n",
        "      for j in range(len(M2[0])):\n",
        "        M3[i].append(0)\n",
        "\n",
        "    for i in range(len(M1)):\n",
        "      for j in range(len(M2[0])):\n",
        "        for k in range(len(M1[0])):\n",
        "\n",
        "          M3[i][j] += M1[i][k] * M2[k][j]\n",
        "\n",
        "    return M3\n",
        "  else:\n",
        "    return None\n",
        "\n",
        "c = Multiplicar_Matrices(A,B)\n",
        "\n",
        "if c == None:\n",
        "  print(\"No se pueden multiplicar\")\n",
        "else:\n",
        "  for fila in c:\n",
        "      print(\"[\", end=\" \")\n",
        "      for elemento in fila:\n",
        "        print(elemento, end=\" \")\n",
        "      print(\"]\")\n",
        "\n"
      ],
      "metadata": {
        "colab": {
          "base_uri": "https://localhost:8080/"
        },
        "id": "5qPmg5KhpdN3",
        "outputId": "2d9093d9-82ed-4358-f4a0-cd3aef28dc71"
      },
      "execution_count": null,
      "outputs": [
        {
          "output_type": "stream",
          "name": "stdout",
          "text": [
            "[ 4 -2 1 ]\n",
            "[ 20 -7 12 ]\n",
            "[ -8 13 21 ]\n"
          ]
        }
      ]
    }
  ]
}