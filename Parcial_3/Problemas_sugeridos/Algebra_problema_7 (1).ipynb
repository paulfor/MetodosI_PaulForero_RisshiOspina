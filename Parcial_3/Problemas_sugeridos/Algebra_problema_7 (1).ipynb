{
  "nbformat": 4,
  "nbformat_minor": 0,
  "metadata": {
    "colab": {
      "provenance": []
    },
    "kernelspec": {
      "name": "python3",
      "display_name": "Python 3"
    },
    "language_info": {
      "name": "python"
    }
  },
  "cells": [
    {
      "cell_type": "code",
      "source": [],
      "metadata": {
        "id": "C9yaVNkf0gyF"
      },
      "execution_count": null,
      "outputs": []
    },
    {
      "cell_type": "code",
      "source": [
        "import numpy as np\n",
        "\n",
        "lista_omega = np.linspace(1e-10, 2 - 1e-10, 50)\n",
        "\n",
        "def relajacion_iterativa(matriz_A, vector_x, vector_b, parametro_omega, iteraciones_max=1000, tolerancia=1e-9):\n",
        "    vector_solucion = vector_x.copy()\n",
        "    divergencia = None\n",
        "    iteracion = 0\n",
        "    while iteracion <= iteraciones_max:\n",
        "        for i in range(len(vector_x)):\n",
        "            suma_parcial = 0\n",
        "            for j in range(len(vector_x)):\n",
        "                if j != i:\n",
        "                    suma_parcial += matriz_A[i, j] * vector_solucion[j]\n",
        "            vector_solucion[i] = (1 - parametro_omega) * vector_solucion[i] + (parametro_omega / matriz_A[i, i]) * (vector_b[i] - suma_parcial)\n",
        "        iteracion += 1\n",
        "\n",
        "        residuo = np.linalg.norm(np.dot(matriz_A, vector_solucion) - vector_b)\n",
        "\n",
        "        if residuo > 1e+10:\n",
        "            divergencia = True\n",
        "        else:\n",
        "            divergencia = False\n",
        "\n",
        "        if np.allclose(residuo, tolerancia, atol=tolerancia):\n",
        "            break\n",
        "\n",
        "    return vector_solucion, divergencia, iteracion\n",
        "\n",
        "\n"
      ],
      "metadata": {
        "colab": {
          "base_uri": "https://localhost:8080/",
          "height": 245
        },
        "id": "0kT73eS42Cdu",
        "outputId": "e4d29721-7685-4a99-8227-e113c0e031c5"
      },
      "execution_count": 1,
      "outputs": [
        {
          "output_type": "error",
          "ename": "NameError",
          "evalue": "ignored",
          "traceback": [
            "\u001b[0;31m---------------------------------------------------------------------------\u001b[0m",
            "\u001b[0;31mNameError\u001b[0m                                 Traceback (most recent call last)",
            "\u001b[0;32m<ipython-input-1-ae937a15df6e>\u001b[0m in \u001b[0;36m<cell line: 38>\u001b[0;34m()\u001b[0m\n\u001b[1;32m     37\u001b[0m \u001b[0;34m\u001b[0m\u001b[0m\n\u001b[1;32m     38\u001b[0m \u001b[0;32mfor\u001b[0m \u001b[0mparametro_omega\u001b[0m \u001b[0;32min\u001b[0m \u001b[0mlista_omega\u001b[0m\u001b[0;34m:\u001b[0m\u001b[0;34m\u001b[0m\u001b[0;34m\u001b[0m\u001b[0m\n\u001b[0;32m---> 39\u001b[0;31m     \u001b[0mresultado\u001b[0m \u001b[0;34m=\u001b[0m \u001b[0mrelajacion_iterativa\u001b[0m\u001b[0;34m(\u001b[0m\u001b[0mmatriz_A\u001b[0m\u001b[0;34m,\u001b[0m \u001b[0mvector_x_inicial\u001b[0m\u001b[0;34m,\u001b[0m \u001b[0mvector_b\u001b[0m\u001b[0;34m,\u001b[0m \u001b[0mparametro_omega\u001b[0m\u001b[0;34m)\u001b[0m\u001b[0;34m\u001b[0m\u001b[0;34m\u001b[0m\u001b[0m\n\u001b[0m\u001b[1;32m     40\u001b[0m     \u001b[0;32mif\u001b[0m \u001b[0mresultado\u001b[0m\u001b[0;34m[\u001b[0m\u001b[0;36m1\u001b[0m\u001b[0;34m]\u001b[0m \u001b[0;34m==\u001b[0m \u001b[0;32mFalse\u001b[0m\u001b[0;34m:\u001b[0m\u001b[0;34m\u001b[0m\u001b[0;34m\u001b[0m\u001b[0m\n\u001b[1;32m     41\u001b[0m         \u001b[0;32mif\u001b[0m \u001b[0mminimas_iteraciones\u001b[0m \u001b[0;34m>\u001b[0m \u001b[0mresultado\u001b[0m\u001b[0;34m[\u001b[0m\u001b[0;36m2\u001b[0m\u001b[0;34m]\u001b[0m\u001b[0;34m:\u001b[0m\u001b[0;34m\u001b[0m\u001b[0;34m\u001b[0m\u001b[0m\n",
            "\u001b[0;31mNameError\u001b[0m: name 'vector_x_inicial' is not defined"
          ]
        }
      ]
    }
  ]
}